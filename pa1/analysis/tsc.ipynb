{
 "cells": [
  {
   "cell_type": "code",
   "execution_count": 27,
   "metadata": {},
   "outputs": [],
   "source": [
    "import random\n",
    "import tsc as tests\n",
    "\n",
    "l100 = [random.randint(-10, 10) for i in range(100)]\n",
    "l200 = [random.randint(-10, 10) for i in range(200)]\n",
    "l300 = [random.randint(-10, 10) for i in range(300)]\n",
    "l400 = [random.randint(-10, 10) for i in range(400)]\n",
    "l500 = [random.randint(-10, 10) for i in range(500)]\n",
    "l600 = [random.randint(-10, 10) for i in range(600)]\n",
    "l700 = [random.randint(-10, 10) for i in range(700)]\n",
    "l800 = [random.randint(-10, 10) for i in range(800)]\n",
    "l900 = [random.randint(-10, 10) for i in range(900)]\n",
    "\n",
    "l1k = [random.randint(-10, 10) for i in range(1000)]\n",
    "l2k = [random.randint(-10, 10) for i in range(2000)]\n",
    "l3k = [random.randint(-10, 10) for i in range(3000)]\n",
    "l4k = [random.randint(-10, 10) for i in range(4000)]\n",
    "l5k = [random.randint(-10, 10) for i in range(5000)]\n",
    "l6k = [random.randint(-10, 10) for i in range(6000)]\n",
    "l7k = [random.randint(-10, 10) for i in range(7000)]\n",
    "l8k = [random.randint(-10, 10) for i in range(8000)]\n",
    "l9k = [random.randint(-10, 10) for i in range(9000)]\n",
    "\n",
    "l10k = [random.randint(-10, 10) for i in range(10000)]\n",
    "l20k = [random.randint(-10, 10) for i in range(20000)]\n",
    "l30k = [random.randint(-10, 10) for i in range(30000)]\n",
    "l40k = [random.randint(-10, 10) for i in range(40000)]\n",
    "l50k = [random.randint(-10, 10) for i in range(50000)]"
   ]
  },
  {
   "cell_type": "code",
   "execution_count": 2,
   "metadata": {},
   "outputs": [
    {
     "name": "stdout",
     "output_type": "stream",
     "text": [
      "45.3 ms ± 74.8 µs per loop (mean ± std. dev. of 7 runs, 10 loops each)\n",
      "909 µs ± 2.04 µs per loop (mean ± std. dev. of 7 runs, 1,000 loops each)\n",
      "10.9 µs ± 88.2 ns per loop (mean ± std. dev. of 7 runs, 100,000 loops each)\n",
      "10.3 µs ± 31.7 ns per loop (mean ± std. dev. of 7 runs, 100,000 loops each)\n"
     ]
    }
   ],
   "source": [
    "%timeit tests.tsc0(l100)\n",
    "%timeit tests.tsc1(l100)\n",
    "%timeit tests.tsc2(l100)\n",
    "%timeit tests.tsc3(l100)"
   ]
  },
  {
   "cell_type": "code",
   "execution_count": 3,
   "metadata": {},
   "outputs": [
    {
     "name": "stdout",
     "output_type": "stream",
     "text": [
      "367 ms ± 621 µs per loop (mean ± std. dev. of 7 runs, 1 loop each)\n",
      "3.7 ms ± 12 µs per loop (mean ± std. dev. of 7 runs, 100 loops each)\n",
      "21.7 µs ± 83 ns per loop (mean ± std. dev. of 7 runs, 10,000 loops each)\n",
      "20.7 µs ± 44.8 ns per loop (mean ± std. dev. of 7 runs, 10,000 loops each)\n"
     ]
    }
   ],
   "source": [
    "%timeit tests.tsc0(l200)\n",
    "%timeit tests.tsc1(l200)\n",
    "%timeit tests.tsc2(l200)\n",
    "%timeit tests.tsc3(l200)"
   ]
  },
  {
   "cell_type": "code",
   "execution_count": 4,
   "metadata": {},
   "outputs": [
    {
     "name": "stdout",
     "output_type": "stream",
     "text": [
      "1.24 s ± 832 µs per loop (mean ± std. dev. of 7 runs, 1 loop each)\n",
      "8.3 ms ± 15.5 µs per loop (mean ± std. dev. of 7 runs, 100 loops each)\n",
      "31.9 µs ± 50.5 ns per loop (mean ± std. dev. of 7 runs, 10,000 loops each)\n",
      "32.8 µs ± 66.1 ns per loop (mean ± std. dev. of 7 runs, 10,000 loops each)\n"
     ]
    }
   ],
   "source": [
    "%timeit tests.tsc0(l300)\n",
    "%timeit tests.tsc1(l300)\n",
    "%timeit tests.tsc2(l300)\n",
    "%timeit tests.tsc3(l300)"
   ]
  },
  {
   "cell_type": "code",
   "execution_count": 5,
   "metadata": {},
   "outputs": [
    {
     "name": "stdout",
     "output_type": "stream",
     "text": [
      "3.03 s ± 4.29 ms per loop (mean ± std. dev. of 7 runs, 1 loop each)\n",
      "15.5 ms ± 21.1 µs per loop (mean ± std. dev. of 7 runs, 100 loops each)\n",
      "40.6 µs ± 54 ns per loop (mean ± std. dev. of 7 runs, 10,000 loops each)\n",
      "44.3 µs ± 55.8 ns per loop (mean ± std. dev. of 7 runs, 10,000 loops each)\n"
     ]
    }
   ],
   "source": [
    "%timeit tests.tsc0(l400)\n",
    "%timeit tests.tsc1(l400)\n",
    "%timeit tests.tsc2(l400)\n",
    "%timeit tests.tsc3(l400)"
   ]
  },
  {
   "cell_type": "code",
   "execution_count": 7,
   "metadata": {},
   "outputs": [
    {
     "name": "stdout",
     "output_type": "stream",
     "text": [
      "51.6 µs ± 214 ns per loop (mean ± std. dev. of 7 runs, 10,000 loops each)\n",
      "56.9 µs ± 123 ns per loop (mean ± std. dev. of 7 runs, 10,000 loops each)\n"
     ]
    }
   ],
   "source": [
    "#%timeit tests.tsc0(l500)\n",
    "#%timeit tests.tsc1(l500)\n",
    "%timeit tests.tsc2(l500)\n",
    "%timeit tests.tsc3(l500)"
   ]
  },
  {
   "cell_type": "code",
   "execution_count": 8,
   "metadata": {},
   "outputs": [
    {
     "name": "stdout",
     "output_type": "stream",
     "text": [
      "61.7 µs ± 118 ns per loop (mean ± std. dev. of 7 runs, 10,000 loops each)\n",
      "66.6 µs ± 174 ns per loop (mean ± std. dev. of 7 runs, 10,000 loops each)\n"
     ]
    }
   ],
   "source": [
    "#%timeit tests.tsc0(l400)\n",
    "#%timeit tests.tsc1(l400)\n",
    "%timeit tests.tsc2(l600)\n",
    "%timeit tests.tsc3(l600)"
   ]
  },
  {
   "cell_type": "code",
   "execution_count": 11,
   "metadata": {},
   "outputs": [
    {
     "name": "stdout",
     "output_type": "stream",
     "text": [
      "71.7 µs ± 534 ns per loop (mean ± std. dev. of 7 runs, 10,000 loops each)\n",
      "78.7 µs ± 752 ns per loop (mean ± std. dev. of 7 runs, 10,000 loops each)\n"
     ]
    }
   ],
   "source": [
    "%timeit tests.tsc2(l700)\n",
    "%timeit tests.tsc3(l700)"
   ]
  },
  {
   "cell_type": "code",
   "execution_count": 12,
   "metadata": {},
   "outputs": [
    {
     "name": "stdout",
     "output_type": "stream",
     "text": [
      "86 µs ± 7.61 µs per loop (mean ± std. dev. of 7 runs, 10,000 loops each)\n",
      "97.5 µs ± 8.13 µs per loop (mean ± std. dev. of 7 runs, 10,000 loops each)\n"
     ]
    }
   ],
   "source": [
    "%timeit tests.tsc2(l800)\n",
    "%timeit tests.tsc3(l800)"
   ]
  },
  {
   "cell_type": "code",
   "execution_count": 13,
   "metadata": {},
   "outputs": [
    {
     "name": "stdout",
     "output_type": "stream",
     "text": [
      "92 µs ± 195 ns per loop (mean ± std. dev. of 7 runs, 10,000 loops each)\n",
      "103 µs ± 1.3 µs per loop (mean ± std. dev. of 7 runs, 10,000 loops each)\n"
     ]
    }
   ],
   "source": [
    "%timeit tests.tsc2(l900)\n",
    "%timeit tests.tsc3(l900)"
   ]
  },
  {
   "cell_type": "code",
   "execution_count": 15,
   "metadata": {},
   "outputs": [
    {
     "name": "stdout",
     "output_type": "stream",
     "text": [
      "103 µs ± 475 ns per loop (mean ± std. dev. of 7 runs, 10,000 loops each)\n",
      "116 µs ± 775 ns per loop (mean ± std. dev. of 7 runs, 10,000 loops each)\n"
     ]
    }
   ],
   "source": [
    "%timeit tests.tsc2(l1k)\n",
    "%timeit tests.tsc3(l1k)"
   ]
  },
  {
   "cell_type": "code",
   "execution_count": 16,
   "metadata": {},
   "outputs": [
    {
     "name": "stdout",
     "output_type": "stream",
     "text": [
      "203 µs ± 331 ns per loop (mean ± std. dev. of 7 runs, 1,000 loops each)\n",
      "252 µs ± 2.8 µs per loop (mean ± std. dev. of 7 runs, 1,000 loops each)\n"
     ]
    }
   ],
   "source": [
    "%timeit tests.tsc2(l2k)\n",
    "%timeit tests.tsc3(l2k)"
   ]
  },
  {
   "cell_type": "code",
   "execution_count": 17,
   "metadata": {},
   "outputs": [
    {
     "name": "stdout",
     "output_type": "stream",
     "text": [
      "311 µs ± 290 ns per loop (mean ± std. dev. of 7 runs, 1,000 loops each)\n",
      "400 µs ± 2.8 µs per loop (mean ± std. dev. of 7 runs, 1,000 loops each)\n"
     ]
    }
   ],
   "source": [
    "%timeit tests.tsc2(l3k)\n",
    "%timeit tests.tsc3(l3k)"
   ]
  },
  {
   "cell_type": "code",
   "execution_count": 19,
   "metadata": {},
   "outputs": [
    {
     "name": "stdout",
     "output_type": "stream",
     "text": [
      "419 µs ± 1.9 µs per loop (mean ± std. dev. of 7 runs, 1,000 loops each)\n",
      "548 µs ± 5.55 µs per loop (mean ± std. dev. of 7 runs, 1,000 loops each)\n"
     ]
    }
   ],
   "source": [
    "%timeit tests.tsc2(l4k)\n",
    "%timeit tests.tsc3(l4k)"
   ]
  },
  {
   "cell_type": "code",
   "execution_count": 20,
   "metadata": {},
   "outputs": [
    {
     "name": "stdout",
     "output_type": "stream",
     "text": [
      "533 µs ± 185 ns per loop (mean ± std. dev. of 7 runs, 1,000 loops each)\n",
      "688 µs ± 3.55 µs per loop (mean ± std. dev. of 7 runs, 1,000 loops each)\n"
     ]
    }
   ],
   "source": [
    "%timeit tests.tsc2(l5k)\n",
    "%timeit tests.tsc3(l5k)"
   ]
  },
  {
   "cell_type": "code",
   "execution_count": 22,
   "metadata": {},
   "outputs": [
    {
     "name": "stdout",
     "output_type": "stream",
     "text": [
      "644 µs ± 2.01 µs per loop (mean ± std. dev. of 7 runs, 1,000 loops each)\n",
      "827 µs ± 6.55 µs per loop (mean ± std. dev. of 7 runs, 1,000 loops each)\n"
     ]
    }
   ],
   "source": [
    "%timeit tests.tsc2(l6k)\n",
    "%timeit tests.tsc3(l6k)"
   ]
  },
  {
   "cell_type": "code",
   "execution_count": 23,
   "metadata": {},
   "outputs": [
    {
     "name": "stdout",
     "output_type": "stream",
     "text": [
      "756 µs ± 1.77 µs per loop (mean ± std. dev. of 7 runs, 1,000 loops each)\n",
      "990 µs ± 6.58 µs per loop (mean ± std. dev. of 7 runs, 1,000 loops each)\n"
     ]
    }
   ],
   "source": [
    "%timeit tests.tsc2(l7k)\n",
    "%timeit tests.tsc3(l7k)"
   ]
  },
  {
   "cell_type": "code",
   "execution_count": 24,
   "metadata": {},
   "outputs": [
    {
     "name": "stdout",
     "output_type": "stream",
     "text": [
      "880 µs ± 5.99 µs per loop (mean ± std. dev. of 7 runs, 1,000 loops each)\n",
      "1.14 ms ± 4.88 µs per loop (mean ± std. dev. of 7 runs, 1,000 loops each)\n"
     ]
    }
   ],
   "source": [
    "%timeit tests.tsc2(l8k)\n",
    "%timeit tests.tsc3(l8k)"
   ]
  },
  {
   "cell_type": "code",
   "execution_count": 25,
   "metadata": {},
   "outputs": [
    {
     "name": "stdout",
     "output_type": "stream",
     "text": [
      "985 µs ± 3.4 µs per loop (mean ± std. dev. of 7 runs, 1,000 loops each)\n",
      "1.26 ms ± 7.69 µs per loop (mean ± std. dev. of 7 runs, 1,000 loops each)\n"
     ]
    }
   ],
   "source": [
    "%timeit tests.tsc2(l9k)\n",
    "%timeit tests.tsc3(l9k)"
   ]
  },
  {
   "cell_type": "code",
   "execution_count": 26,
   "metadata": {},
   "outputs": [
    {
     "name": "stdout",
     "output_type": "stream",
     "text": [
      "1.09 ms ± 3.84 µs per loop (mean ± std. dev. of 7 runs, 1,000 loops each)\n",
      "1.42 ms ± 8.46 µs per loop (mean ± std. dev. of 7 runs, 1,000 loops each)\n"
     ]
    }
   ],
   "source": [
    "%timeit tests.tsc2(l10k)\n",
    "%timeit tests.tsc3(l10k)"
   ]
  },
  {
   "cell_type": "code",
   "execution_count": 28,
   "metadata": {},
   "outputs": [
    {
     "name": "stdout",
     "output_type": "stream",
     "text": [
      "2.15 ms ± 18.3 µs per loop (mean ± std. dev. of 7 runs, 100 loops each)\n",
      "2.86 ms ± 28.3 µs per loop (mean ± std. dev. of 7 runs, 100 loops each)\n"
     ]
    }
   ],
   "source": [
    "%timeit tests.tsc2(l20k)\n",
    "%timeit tests.tsc3(l20k)"
   ]
  },
  {
   "cell_type": "code",
   "execution_count": 29,
   "metadata": {},
   "outputs": [
    {
     "name": "stdout",
     "output_type": "stream",
     "text": [
      "3.26 ms ± 11.4 µs per loop (mean ± std. dev. of 7 runs, 100 loops each)\n",
      "4.35 ms ± 35.7 µs per loop (mean ± std. dev. of 7 runs, 100 loops each)\n"
     ]
    }
   ],
   "source": [
    "%timeit tests.tsc2(l30k)\n",
    "%timeit tests.tsc3(l30k)"
   ]
  },
  {
   "cell_type": "code",
   "execution_count": 30,
   "metadata": {},
   "outputs": [
    {
     "name": "stdout",
     "output_type": "stream",
     "text": [
      "4.37 ms ± 14.9 µs per loop (mean ± std. dev. of 7 runs, 100 loops each)\n",
      "5.75 ms ± 29.2 µs per loop (mean ± std. dev. of 7 runs, 100 loops each)\n"
     ]
    }
   ],
   "source": [
    "%timeit tests.tsc2(l40k)\n",
    "%timeit tests.tsc3(l40k)"
   ]
  },
  {
   "cell_type": "code",
   "execution_count": 31,
   "metadata": {},
   "outputs": [
    {
     "name": "stdout",
     "output_type": "stream",
     "text": [
      "5.49 ms ± 11 µs per loop (mean ± std. dev. of 7 runs, 100 loops each)\n",
      "7.26 ms ± 31.5 µs per loop (mean ± std. dev. of 7 runs, 100 loops each)\n"
     ]
    }
   ],
   "source": [
    "%timeit tests.tsc2(l50k)\n",
    "%timeit tests.tsc3(l50k)"
   ]
  },
  {
   "cell_type": "code",
   "execution_count": null,
   "metadata": {},
   "outputs": [],
   "source": []
  }
 ],
 "metadata": {
  "kernelspec": {
   "display_name": "Python 3 (ipykernel)",
   "language": "python",
   "name": "python3"
  },
  "language_info": {
   "codemirror_mode": {
    "name": "ipython",
    "version": 3
   },
   "file_extension": ".py",
   "mimetype": "text/x-python",
   "name": "python",
   "nbconvert_exporter": "python",
   "pygments_lexer": "ipython3",
   "version": "3.11.3"
  }
 },
 "nbformat": 4,
 "nbformat_minor": 2
}
